{
 "cells": [
  {
   "cell_type": "code",
   "execution_count": 1,
   "metadata": {
    "executionInfo": {
     "elapsed": 450,
     "status": "ok",
     "timestamp": 1622622919473,
     "user": {
      "displayName": "Quỳnh Fox",
      "photoUrl": "https://lh3.googleusercontent.com/a-/AOh14Gjnizcdqk_89X3fSu8Aodon4MKQeqqeo-3vDYcP3UQ=s64",
      "userId": "17640378166973282237"
     },
     "user_tz": -480
    },
    "id": "2RDHT_pYDCvG"
   },
   "outputs": [],
   "source": [
    "import numpy as np\n",
    "import pandas as pd\n",
    "import scipy as sp\n",
    "import matplotlib.pyplot as plt\n",
    "%matplotlib inline\n",
    "\n",
    "import warnings\n",
    "warnings.filterwarnings('ignore')\n",
    "\n",
    "from sklearn.neural_network import MLPClassifier\n",
    "from sklearn import model_selection\n",
    "from sklearn import metrics\n",
    "from sklearn.decomposition import PCA\n",
    "#from imblearn.over_sampling import SMOTE\n",
    "\n",
    "pd.set_option('display.max_columns', 100)"
   ]
  },
  {
   "cell_type": "code",
   "execution_count": 2,
   "metadata": {
    "executionInfo": {
     "elapsed": 386,
     "status": "ok",
     "timestamp": 1622622954379,
     "user": {
      "displayName": "Quỳnh Fox",
      "photoUrl": "https://lh3.googleusercontent.com/a-/AOh14Gjnizcdqk_89X3fSu8Aodon4MKQeqqeo-3vDYcP3UQ=s64",
      "userId": "17640378166973282237"
     },
     "user_tz": -480
    },
    "id": "OsRe-J1CWvIh"
   },
   "outputs": [],
   "source": [
    "def load_files(folder, *files):\n",
    "    data = []\n",
    "    for file in files:\n",
    "        df = pd.read_csv(folder + '/' +file +'.csv')\n",
    "        data.append(df)\n",
    "    data = pd.concat(data, axis=0)\n",
    "    return data\n",
    "\n",
    "def category2onehot(df, col):\n",
    "    df = pd.concat([df, pd.get_dummies(df[col], prefix=col)],axis=1)\n",
    "    df.drop([col],axis=1, inplace=True)\n",
    "    return df"
   ]
  },
  {
   "cell_type": "markdown",
   "metadata": {
    "id": "RWy_3pnXWvIi"
   },
   "source": [
    "### 1. Load the Dataset\n",
    "An ideal machine learning model must able to make prediction from unseen data .i.e. future observation. Based on that principle we decided to use house data 2005, 2007, 2009 and 2011 as the training set and data 2013 as the test set"
   ]
  },
  {
   "cell_type": "code",
   "execution_count": null,
   "metadata": {
    "id": "neM39PQTDCvR"
   },
   "outputs": [],
   "source": [
    "raw_train = load_files('data', 'thads2005', 'thads2007', 'thads2009', 'thads2011')\n",
    "raw_test = load_files('data', 'thads2013n')\n",
    "raw_test.head()"
   ]
  },
  {
   "cell_type": "markdown",
   "metadata": {
    "id": "ZBeASTafWvIj"
   },
   "source": [
    "### 2. Attributes Selection\n",
    "Each intances in the dataset contains 99 of parameters but most of the parameters are not well described. Therefore, we only use parameters described by dataset author. The descriptions of those attibutes are documented at 'Variables.docx' file"
   ]
  },
  {
   "cell_type": "code",
   "execution_count": null,
   "metadata": {
    "id": "ZF0xa6CyWvIj",
    "outputId": "ece4dd50-04af-4f01-d874-c59e1fdc0852"
   },
   "outputs": [
    {
     "data": {
      "text/html": [
       "<div>\n",
       "<style scoped>\n",
       "    .dataframe tbody tr th:only-of-type {\n",
       "        vertical-align: middle;\n",
       "    }\n",
       "\n",
       "    .dataframe tbody tr th {\n",
       "        vertical-align: top;\n",
       "    }\n",
       "\n",
       "    .dataframe thead th {\n",
       "        text-align: right;\n",
       "    }\n",
       "</style>\n",
       "<table border=\"1\" class=\"dataframe\">\n",
       "  <thead>\n",
       "    <tr style=\"text-align: right;\">\n",
       "      <th></th>\n",
       "      <th>CONTROL</th>\n",
       "      <th>AGE1</th>\n",
       "      <th>METRO3</th>\n",
       "      <th>REGION</th>\n",
       "      <th>LMED</th>\n",
       "      <th>FMR</th>\n",
       "      <th>IPOV</th>\n",
       "      <th>BEDRMS</th>\n",
       "      <th>BUILT</th>\n",
       "      <th>STATUS</th>\n",
       "      <th>TYPE</th>\n",
       "      <th>VALUE</th>\n",
       "      <th>NUNITS</th>\n",
       "      <th>ROOMS</th>\n",
       "      <th>PER</th>\n",
       "      <th>ZINC2</th>\n",
       "      <th>ZADEQ</th>\n",
       "      <th>ZSMHC</th>\n",
       "      <th>STRUCTURETYPE</th>\n",
       "      <th>OWNRENT</th>\n",
       "      <th>UTILITY</th>\n",
       "      <th>OTHERCOST</th>\n",
       "      <th>COST06</th>\n",
       "      <th>COST08</th>\n",
       "      <th>COST12</th>\n",
       "      <th>COSTMED</th>\n",
       "      <th>ASSISTED</th>\n",
       "    </tr>\n",
       "  </thead>\n",
       "  <tbody>\n",
       "    <tr>\n",
       "      <th>0</th>\n",
       "      <td>'100003130103'</td>\n",
       "      <td>82</td>\n",
       "      <td>'3'</td>\n",
       "      <td>'1'</td>\n",
       "      <td>73738</td>\n",
       "      <td>956</td>\n",
       "      <td>11067</td>\n",
       "      <td>2</td>\n",
       "      <td>2006</td>\n",
       "      <td>'1'</td>\n",
       "      <td>1</td>\n",
       "      <td>40000</td>\n",
       "      <td>1</td>\n",
       "      <td>6</td>\n",
       "      <td>1</td>\n",
       "      <td>18021</td>\n",
       "      <td>'1'</td>\n",
       "      <td>533</td>\n",
       "      <td>1</td>\n",
       "      <td>'1'</td>\n",
       "      <td>169.000000</td>\n",
       "      <td>213.750000</td>\n",
       "      <td>648.588189</td>\n",
       "      <td>696.905247</td>\n",
       "      <td>803.050535</td>\n",
       "      <td>615.156712</td>\n",
       "      <td>-9</td>\n",
       "    </tr>\n",
       "    <tr>\n",
       "      <th>1</th>\n",
       "      <td>'100006110249'</td>\n",
       "      <td>50</td>\n",
       "      <td>'5'</td>\n",
       "      <td>'3'</td>\n",
       "      <td>55846</td>\n",
       "      <td>1100</td>\n",
       "      <td>24218</td>\n",
       "      <td>4</td>\n",
       "      <td>1980</td>\n",
       "      <td>'1'</td>\n",
       "      <td>1</td>\n",
       "      <td>130000</td>\n",
       "      <td>1</td>\n",
       "      <td>6</td>\n",
       "      <td>4</td>\n",
       "      <td>122961</td>\n",
       "      <td>'1'</td>\n",
       "      <td>487</td>\n",
       "      <td>1</td>\n",
       "      <td>'1'</td>\n",
       "      <td>245.333333</td>\n",
       "      <td>58.333333</td>\n",
       "      <td>1167.640781</td>\n",
       "      <td>1324.671218</td>\n",
       "      <td>1669.643405</td>\n",
       "      <td>1058.988479</td>\n",
       "      <td>-9</td>\n",
       "    </tr>\n",
       "    <tr>\n",
       "      <th>2</th>\n",
       "      <td>'100006370140'</td>\n",
       "      <td>53</td>\n",
       "      <td>'5'</td>\n",
       "      <td>'3'</td>\n",
       "      <td>55846</td>\n",
       "      <td>1100</td>\n",
       "      <td>15470</td>\n",
       "      <td>4</td>\n",
       "      <td>1985</td>\n",
       "      <td>'1'</td>\n",
       "      <td>1</td>\n",
       "      <td>150000</td>\n",
       "      <td>1</td>\n",
       "      <td>7</td>\n",
       "      <td>2</td>\n",
       "      <td>27974</td>\n",
       "      <td>'1'</td>\n",
       "      <td>1405</td>\n",
       "      <td>1</td>\n",
       "      <td>'1'</td>\n",
       "      <td>159.000000</td>\n",
       "      <td>37.500000</td>\n",
       "      <td>1193.393209</td>\n",
       "      <td>1374.582175</td>\n",
       "      <td>1772.627006</td>\n",
       "      <td>1068.025168</td>\n",
       "      <td>-9</td>\n",
       "    </tr>\n",
       "    <tr>\n",
       "      <th>3</th>\n",
       "      <td>'100006520140'</td>\n",
       "      <td>67</td>\n",
       "      <td>'5'</td>\n",
       "      <td>'3'</td>\n",
       "      <td>55846</td>\n",
       "      <td>949</td>\n",
       "      <td>13964</td>\n",
       "      <td>3</td>\n",
       "      <td>1985</td>\n",
       "      <td>'1'</td>\n",
       "      <td>1</td>\n",
       "      <td>200000</td>\n",
       "      <td>1</td>\n",
       "      <td>6</td>\n",
       "      <td>2</td>\n",
       "      <td>32220</td>\n",
       "      <td>'1'</td>\n",
       "      <td>279</td>\n",
       "      <td>1</td>\n",
       "      <td>'1'</td>\n",
       "      <td>179.000000</td>\n",
       "      <td>70.666667</td>\n",
       "      <td>1578.857612</td>\n",
       "      <td>1820.442900</td>\n",
       "      <td>2351.169341</td>\n",
       "      <td>1411.700224</td>\n",
       "      <td>-9</td>\n",
       "    </tr>\n",
       "    <tr>\n",
       "      <th>4</th>\n",
       "      <td>'100007130148'</td>\n",
       "      <td>26</td>\n",
       "      <td>'1'</td>\n",
       "      <td>'3'</td>\n",
       "      <td>60991</td>\n",
       "      <td>737</td>\n",
       "      <td>15492</td>\n",
       "      <td>2</td>\n",
       "      <td>1980</td>\n",
       "      <td>'1'</td>\n",
       "      <td>1</td>\n",
       "      <td>-6</td>\n",
       "      <td>100</td>\n",
       "      <td>4</td>\n",
       "      <td>2</td>\n",
       "      <td>96874</td>\n",
       "      <td>'1'</td>\n",
       "      <td>759</td>\n",
       "      <td>5</td>\n",
       "      <td>'2'</td>\n",
       "      <td>146.000000</td>\n",
       "      <td>12.500000</td>\n",
       "      <td>759.000000</td>\n",
       "      <td>759.000000</td>\n",
       "      <td>759.000000</td>\n",
       "      <td>759.000000</td>\n",
       "      <td>0</td>\n",
       "    </tr>\n",
       "  </tbody>\n",
       "</table>\n",
       "</div>"
      ],
      "text/plain": [
       "          CONTROL  AGE1 METRO3 REGION   LMED   FMR   IPOV  BEDRMS  BUILT  \\\n",
       "0  '100003130103'    82    '3'    '1'  73738   956  11067       2   2006   \n",
       "1  '100006110249'    50    '5'    '3'  55846  1100  24218       4   1980   \n",
       "2  '100006370140'    53    '5'    '3'  55846  1100  15470       4   1985   \n",
       "3  '100006520140'    67    '5'    '3'  55846   949  13964       3   1985   \n",
       "4  '100007130148'    26    '1'    '3'  60991   737  15492       2   1980   \n",
       "\n",
       "  STATUS  TYPE   VALUE  NUNITS  ROOMS  PER   ZINC2 ZADEQ  ZSMHC  \\\n",
       "0    '1'     1   40000       1      6    1   18021   '1'    533   \n",
       "1    '1'     1  130000       1      6    4  122961   '1'    487   \n",
       "2    '1'     1  150000       1      7    2   27974   '1'   1405   \n",
       "3    '1'     1  200000       1      6    2   32220   '1'    279   \n",
       "4    '1'     1      -6     100      4    2   96874   '1'    759   \n",
       "\n",
       "   STRUCTURETYPE OWNRENT     UTILITY   OTHERCOST       COST06       COST08  \\\n",
       "0              1     '1'  169.000000  213.750000   648.588189   696.905247   \n",
       "1              1     '1'  245.333333   58.333333  1167.640781  1324.671218   \n",
       "2              1     '1'  159.000000   37.500000  1193.393209  1374.582175   \n",
       "3              1     '1'  179.000000   70.666667  1578.857612  1820.442900   \n",
       "4              5     '2'  146.000000   12.500000   759.000000   759.000000   \n",
       "\n",
       "        COST12      COSTMED  ASSISTED  \n",
       "0   803.050535   615.156712        -9  \n",
       "1  1669.643405  1058.988479        -9  \n",
       "2  1772.627006  1068.025168        -9  \n",
       "3  2351.169341  1411.700224        -9  \n",
       "4   759.000000   759.000000         0  "
      ]
     },
     "execution_count": 4,
     "metadata": {
      "tags": []
     },
     "output_type": "execute_result"
    }
   ],
   "source": [
    "attributes = [attr[0] for attr in pd.read_csv('data/variables.csv').values.tolist()]\n",
    "data_train = raw_train[attributes]\n",
    "data_test = raw_test[attributes]\n",
    "data_test.head()"
   ]
  },
  {
   "cell_type": "markdown",
   "metadata": {
    "id": "85xCJcg8WvIj"
   },
   "source": [
    "### [TO DO] Fixing some Data Formating Issue and Cleanning\n",
    "This should be done during data cleaning"
   ]
  },
  {
   "cell_type": "code",
   "execution_count": null,
   "metadata": {
    "id": "o6clWQ0gWvIk"
   },
   "outputs": [],
   "source": [
    "data_train['METRO3'] = data_train['METRO3'].replace(['\\'2\\'', '\\'3\\'', '\\'4\\'', '\\'5\\'', '\\'9\\''], 'O')\n",
    "data_train['METRO3'] = data_train['METRO3'].replace(['\\'1\\''], 'C')\n",
    "\n",
    "data_test['METRO3'] = data_test['METRO3'].replace(['\\'2\\'', '\\'3\\'', '\\'4\\'', '\\'5\\'', '\\'9\\''], 'O')\n",
    "data_test['METRO3'] = data_test['METRO3'].replace(['\\'1\\''], 'C')\n",
    "\n",
    "for col in data_train:\n",
    "    print(col)\n",
    "    x = data_train[col].unique() \n",
    "    print(max(x), min(x), x if len(x)<10 else str(x[:10]) + '(Numeric Data)')"
   ]
  },
  {
   "cell_type": "markdown",
   "metadata": {
    "id": "XLUQTMOrWvIk"
   },
   "source": [
    "### 3. Formating Dataset\n",
    "We drop 'CONTROL' attribute since it only used as the identifier for each intances in the dataset. 'ASSISTED' attribute then separated from the rest attributes of so we can use it as prediction target or label. Then we separate categorical and numerical atributes."
   ]
  },
  {
   "cell_type": "code",
   "execution_count": null,
   "metadata": {
    "id": "trueIEkdDCvT"
   },
   "outputs": [],
   "source": [
    "# Pair of data and label\n",
    "train_x = data_train.drop('CONTROL', axis=1)\n",
    "train_y = data_train.pop('ASSISTED')\n",
    "\n",
    "test_x = data_test.drop('CONTROL', axis=1)\n",
    "test_y = data_test.pop('ASSISTED')\n",
    "\n",
    "# Separate categorical and numeric attributes\n",
    "train_categorical = train_x.select_dtypes(include='object')\n",
    "train_numeric = train_x.select_dtypes(exclude='object')\n",
    "\n",
    "test_categorical = test_x.select_dtypes(include='object')\n",
    "test_numeric = test_x.select_dtypes(exclude='object')"
   ]
  },
  {
   "cell_type": "markdown",
   "metadata": {
    "id": "rvvZtYCTWvIl"
   },
   "source": [
    "### 4. Label and Catergorical Attributes Preprocessing\n",
    "We transform label and catergorical attributes into one hot vector"
   ]
  },
  {
   "cell_type": "code",
   "execution_count": null,
   "metadata": {
    "id": "wkuMG7GTDCvT"
   },
   "outputs": [],
   "source": [
    "#Trasnform label to onehot vector\n",
    "train_y = pd.get_dummies(train_y)\n",
    "test_y = pd.get_dummies(test_y)\n",
    "\n",
    "#Transform categorical attributes to one hot vector\n",
    "for col in train_categorical.columns.values:\n",
    "    train_categorical = category2onehot(train_categorical, col)\n",
    "\n",
    "for col in test_categorical.columns.values:\n",
    "    test_categorical = category2onehot(test_categorical, col)"
   ]
  },
  {
   "cell_type": "markdown",
   "metadata": {
    "id": "ORJSRReZWvIl"
   },
   "source": [
    "### 5. Numerical Attributes Preprocessing\n",
    "We simply perform z-score normalization over nummerical attributes"
   ]
  },
  {
   "cell_type": "code",
   "execution_count": null,
   "metadata": {
    "id": "6w8mAO_hDCvU"
   },
   "outputs": [],
   "source": [
    "for col in train_numeric:\n",
    "    mean = train_numeric[col].mean()\n",
    "    std = train_numeric[col].std(ddof=0)\n",
    "    train_numeric[col] = (train_numeric[col] - mean)/(std+1E-10)\n",
    "    test_numeric[col] = (test_numeric[col] - mean)/(std+1E-10)  "
   ]
  },
  {
   "cell_type": "markdown",
   "metadata": {
    "id": "pRDEiFxcWvIm"
   },
   "source": [
    "### 6. Combine Preprocessed Nummerical and Catergorical Attributes\n",
    "We combine preprocessed nummerical and catergorical attributes by concatenating them then we convert the dataframe into numpy array"
   ]
  },
  {
   "cell_type": "code",
   "execution_count": null,
   "metadata": {
    "id": "3dkjpiOwWvIm"
   },
   "outputs": [],
   "source": [
    "train_x = pd.concat([train_numeric, train_categorical], axis=1)\n",
    "test_x = pd.concat([test_numeric, test_categorical], axis=1)\n",
    "test_x.head()\n",
    "\n",
    "train_x, train_y = np.array(train_x), np.array(train_y)\n",
    "test_x, test_y = np.array(test_x), np.array(test_y)"
   ]
  },
  {
   "cell_type": "markdown",
   "metadata": {
    "id": "pUyiGJXOWvIm"
   },
   "source": [
    "### 7. PCA Whitening\n",
    "Obtain principal components of training dataset using pca.fit then transfrom both training and test set"
   ]
  },
  {
   "cell_type": "code",
   "execution_count": null,
   "metadata": {
    "id": "pL71kGZcWvIm"
   },
   "outputs": [],
   "source": [
    "pca = PCA(n_components=8)\n",
    "pca.fit(train_x)\n",
    "\n",
    "train_x = pca.transform(train_x)\n",
    "test_x = pca.transform(test_x)"
   ]
  },
  {
   "cell_type": "markdown",
   "metadata": {
    "id": "zlebw3RFWvIn"
   },
   "source": [
    "### [TO DO] Perform Experiment of Oversampling and Undersaling over Training set"
   ]
  },
  {
   "cell_type": "code",
   "execution_count": null,
   "metadata": {
    "id": "ixVqPlJMWvIn"
   },
   "outputs": [],
   "source": [
    "# oversample = SMOTE()\n",
    "# train_x, train_y = oversample.fit_resample(train_x, train_y)"
   ]
  },
  {
   "cell_type": "markdown",
   "metadata": {
    "id": "to4BKCKsWvIn"
   },
   "source": [
    "### 8. Build and Train Classifier\n",
    "In this case we use MLP with Adam optimization strategy and weight decay of 1E-4"
   ]
  },
  {
   "cell_type": "code",
   "execution_count": null,
   "metadata": {
    "id": "dDG9djt9DCvU",
    "outputId": "2f006338-7c4e-4fef-d6cf-c8c74c045b45"
   },
   "outputs": [
    {
     "data": {
      "text/plain": [
       "MLPClassifier(hidden_layer_sizes=(32, 8), random_state=1)"
      ]
     },
     "execution_count": 12,
     "metadata": {
      "tags": []
     },
     "output_type": "execute_result"
    }
   ],
   "source": [
    "clf = MLPClassifier(solver='adam', alpha=1e-4, hidden_layer_sizes=(32, 8), random_state=1)\n",
    "clf.fit(train_x, train_y)"
   ]
  },
  {
   "cell_type": "markdown",
   "metadata": {
    "id": "QP3CBUv9WvIo"
   },
   "source": [
    "### 9. Evaluate Model Performance"
   ]
  },
  {
   "cell_type": "code",
   "execution_count": null,
   "metadata": {
    "id": "haemYxBzDCvV",
    "outputId": "efa66be2-cb5a-4505-9c21-311ec4777735"
   },
   "outputs": [
    {
     "name": "stdout",
     "output_type": "stream",
     "text": [
      "              precision    recall  f1-score   support\n",
      "\n",
      "           0     0.9995    0.9995    0.9995     40292\n",
      "           1     0.9341    0.9136    0.9237     18022\n",
      "           2     0.7675    0.8151    0.7906      6231\n",
      "\n",
      "   micro avg     0.9578    0.9577    0.9578     64545\n",
      "   macro avg     0.9003    0.9094    0.9046     64545\n",
      "weighted avg     0.9588    0.9577    0.9582     64545\n",
      " samples avg     0.9578    0.9577    0.9577     64545\n",
      "\n"
     ]
    }
   ],
   "source": [
    "#Evaluate trained MLP on test set\n",
    "out = clf.predict(test_x)\n",
    "result = metrics.classification_report(out, test_y, digits=4)\n",
    "print(result)"
   ]
  },
  {
   "cell_type": "code",
   "execution_count": null,
   "metadata": {
    "id": "l30GWY7UDCvW",
    "outputId": "5d42df57-447b-48af-e925-a22b01e6983a"
   },
   "outputs": [
    {
     "data": {
      "text/plain": [
       "array([[40279,    25,     1],\n",
       "       [   11, 16464,  1543],\n",
       "       [    0,  1138,  5074]], dtype=int64)"
      ]
     },
     "execution_count": 14,
     "metadata": {
      "tags": []
     },
     "output_type": "execute_result"
    }
   ],
   "source": [
    "#Just print the confussion matrix\n",
    "metrics.confusion_matrix(np.argmax(out, 1), np.argmax(test_y, 1))"
   ]
  }
 ],
 "metadata": {
  "colab": {
   "collapsed_sections": [],
   "name": "Bản sao của classifier_c.ipynb",
   "provenance": [
    {
     "file_id": "1LoEAoIpBkVwK1AL2J1XeObYvyBLoiUeb",
     "timestamp": 1622622852470
    }
   ]
  },
  "kernelspec": {
   "display_name": "Python 3",
   "language": "python",
   "name": "python3"
  },
  "language_info": {
   "codemirror_mode": {
    "name": "ipython",
    "version": 3
   },
   "file_extension": ".py",
   "mimetype": "text/x-python",
   "name": "python",
   "nbconvert_exporter": "python",
   "pygments_lexer": "ipython3",
   "version": "3.8.3"
  }
 },
 "nbformat": 4,
 "nbformat_minor": 4
}
